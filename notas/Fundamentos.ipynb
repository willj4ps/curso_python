{
 "cells": [
  {
   "cell_type": "code",
   "execution_count": 210,
   "id": "bf4132d4",
   "metadata": {},
   "outputs": [
    {
     "name": "stdout",
     "output_type": "stream",
     "text": [
      "Nome: Ana Idade: 30\n",
      "Nome: Ana Idade: 30\n",
      "Nome: Ana Idade: 30 257\n",
      "Nome: Ana Idade: 30\n"
     ]
    }
   ],
   "source": [
    "from string import Template\n",
    "nome, idade = 'Ana', 30\n",
    "\n",
    "print('Nome: %s Idade: %d' % (nome,idade))\n",
    "print('Nome: {0} Idade: {1}' .format(nome, idade))\n",
    "print(f'Nome: {nome} Idade: {idade} {2 ** 8 + 1}')\n",
    "\n",
    "s = Template ('Nome: $nome Idade: $idade')\n",
    "print(s.substitute(nome=nome, idade=idade))"
   ]
  }
 ],
 "metadata": {
  "kernelspec": {
   "display_name": "Python 3",
   "language": "python",
   "name": "python3"
  },
  "language_info": {
   "codemirror_mode": {
    "name": "ipython",
    "version": 3
   },
   "file_extension": ".py",
   "mimetype": "text/x-python",
   "name": "python",
   "nbconvert_exporter": "python",
   "pygments_lexer": "ipython3",
   "version": "3.8.8"
  }
 },
 "nbformat": 4,
 "nbformat_minor": 5
}
